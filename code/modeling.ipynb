{
 "cells": [
  {
   "cell_type": "code",
   "execution_count": null,
   "source": [],
   "outputs": [],
   "metadata": {}
  },
  {
   "cell_type": "code",
   "execution_count": 1,
   "source": [
    "import pandas as pd\r\n",
    "\r\n",
    "from sklearn.preprocessing import MinMaxScaler\r\n",
    "\r\n",
    "from sklearn.cluster import KMeans\r\n",
    "from sklearn.metrics import silhouette_score"
   ],
   "outputs": [],
   "metadata": {}
  },
  {
   "cell_type": "code",
   "execution_count": 2,
   "source": [
    "X = pd.read_csv('../data/total.csv', index_col='Unnamed: 0')"
   ],
   "outputs": [],
   "metadata": {}
  },
  {
   "cell_type": "code",
   "execution_count": 3,
   "source": [
    "X_feature = X[['청년 비율','세대수 중 청년층 1인 가구','청년층 의지할 수 있는 주변인 수(평균)']]"
   ],
   "outputs": [],
   "metadata": {}
  },
  {
   "cell_type": "code",
   "execution_count": 27,
   "source": [
    "X_feature"
   ],
   "outputs": [
    {
     "output_type": "execute_result",
     "data": {
      "text/html": [
       "<div>\n",
       "<style scoped>\n",
       "    .dataframe tbody tr th:only-of-type {\n",
       "        vertical-align: middle;\n",
       "    }\n",
       "\n",
       "    .dataframe tbody tr th {\n",
       "        vertical-align: top;\n",
       "    }\n",
       "\n",
       "    .dataframe thead th {\n",
       "        text-align: right;\n",
       "    }\n",
       "</style>\n",
       "<table border=\"1\" class=\"dataframe\">\n",
       "  <thead>\n",
       "    <tr style=\"text-align: right;\">\n",
       "      <th></th>\n",
       "      <th>청년 비율</th>\n",
       "      <th>세대수 중 청년층 1인 가구</th>\n",
       "      <th>청년층 의지할 수 있는 주변인 수(평균)</th>\n",
       "    </tr>\n",
       "  </thead>\n",
       "  <tbody>\n",
       "    <tr>\n",
       "      <th>0</th>\n",
       "      <td>0.448560</td>\n",
       "      <td>0.399424</td>\n",
       "      <td>0.389723</td>\n",
       "    </tr>\n",
       "    <tr>\n",
       "      <th>1</th>\n",
       "      <td>0.563786</td>\n",
       "      <td>0.378445</td>\n",
       "      <td>0.401177</td>\n",
       "    </tr>\n",
       "    <tr>\n",
       "      <th>2</th>\n",
       "      <td>0.500686</td>\n",
       "      <td>0.375977</td>\n",
       "      <td>0.684145</td>\n",
       "    </tr>\n",
       "    <tr>\n",
       "      <th>3</th>\n",
       "      <td>0.523320</td>\n",
       "      <td>0.346771</td>\n",
       "      <td>0.246158</td>\n",
       "    </tr>\n",
       "    <tr>\n",
       "      <th>4</th>\n",
       "      <td>0.669410</td>\n",
       "      <td>0.587413</td>\n",
       "      <td>0.681052</td>\n",
       "    </tr>\n",
       "    <tr>\n",
       "      <th>5</th>\n",
       "      <td>0.565158</td>\n",
       "      <td>0.489510</td>\n",
       "      <td>0.427341</td>\n",
       "    </tr>\n",
       "    <tr>\n",
       "      <th>6</th>\n",
       "      <td>0.252401</td>\n",
       "      <td>0.150144</td>\n",
       "      <td>0.433014</td>\n",
       "    </tr>\n",
       "    <tr>\n",
       "      <th>7</th>\n",
       "      <td>0.362140</td>\n",
       "      <td>0.366516</td>\n",
       "      <td>0.347440</td>\n",
       "    </tr>\n",
       "    <tr>\n",
       "      <th>8</th>\n",
       "      <td>0.091221</td>\n",
       "      <td>0.135335</td>\n",
       "      <td>0.250293</td>\n",
       "    </tr>\n",
       "    <tr>\n",
       "      <th>9</th>\n",
       "      <td>0.030864</td>\n",
       "      <td>0.000000</td>\n",
       "      <td>0.000000</td>\n",
       "    </tr>\n",
       "    <tr>\n",
       "      <th>10</th>\n",
       "      <td>0.076132</td>\n",
       "      <td>0.064994</td>\n",
       "      <td>0.494457</td>\n",
       "    </tr>\n",
       "    <tr>\n",
       "      <th>11</th>\n",
       "      <td>0.183128</td>\n",
       "      <td>0.152201</td>\n",
       "      <td>0.482724</td>\n",
       "    </tr>\n",
       "    <tr>\n",
       "      <th>12</th>\n",
       "      <td>0.526063</td>\n",
       "      <td>0.487454</td>\n",
       "      <td>0.716984</td>\n",
       "    </tr>\n",
       "    <tr>\n",
       "      <th>13</th>\n",
       "      <td>0.666667</td>\n",
       "      <td>0.578774</td>\n",
       "      <td>0.690930</td>\n",
       "    </tr>\n",
       "    <tr>\n",
       "      <th>14</th>\n",
       "      <td>0.000000</td>\n",
       "      <td>0.009461</td>\n",
       "      <td>0.478056</td>\n",
       "    </tr>\n",
       "    <tr>\n",
       "      <th>15</th>\n",
       "      <td>0.436900</td>\n",
       "      <td>0.371863</td>\n",
       "      <td>0.567231</td>\n",
       "    </tr>\n",
       "    <tr>\n",
       "      <th>16</th>\n",
       "      <td>0.222908</td>\n",
       "      <td>0.214315</td>\n",
       "      <td>0.711758</td>\n",
       "    </tr>\n",
       "    <tr>\n",
       "      <th>17</th>\n",
       "      <td>0.349794</td>\n",
       "      <td>0.408474</td>\n",
       "      <td>0.476977</td>\n",
       "    </tr>\n",
       "    <tr>\n",
       "      <th>18</th>\n",
       "      <td>0.499314</td>\n",
       "      <td>0.489922</td>\n",
       "      <td>0.376309</td>\n",
       "    </tr>\n",
       "    <tr>\n",
       "      <th>19</th>\n",
       "      <td>0.562414</td>\n",
       "      <td>0.551213</td>\n",
       "      <td>1.000000</td>\n",
       "    </tr>\n",
       "    <tr>\n",
       "      <th>20</th>\n",
       "      <td>1.000000</td>\n",
       "      <td>1.000000</td>\n",
       "      <td>0.378990</td>\n",
       "    </tr>\n",
       "    <tr>\n",
       "      <th>21</th>\n",
       "      <td>0.152263</td>\n",
       "      <td>0.243933</td>\n",
       "      <td>0.254945</td>\n",
       "    </tr>\n",
       "    <tr>\n",
       "      <th>22</th>\n",
       "      <td>0.223594</td>\n",
       "      <td>0.357877</td>\n",
       "      <td>0.405251</td>\n",
       "    </tr>\n",
       "    <tr>\n",
       "      <th>23</th>\n",
       "      <td>0.335391</td>\n",
       "      <td>0.246812</td>\n",
       "      <td>0.649860</td>\n",
       "    </tr>\n",
       "    <tr>\n",
       "      <th>24</th>\n",
       "      <td>0.216049</td>\n",
       "      <td>0.135747</td>\n",
       "      <td>0.402141</td>\n",
       "    </tr>\n",
       "  </tbody>\n",
       "</table>\n",
       "</div>"
      ],
      "text/plain": [
       "       청년 비율  세대수 중 청년층 1인 가구  청년층 의지할 수 있는 주변인 수(평균)\n",
       "0   0.448560         0.399424                0.389723\n",
       "1   0.563786         0.378445                0.401177\n",
       "2   0.500686         0.375977                0.684145\n",
       "3   0.523320         0.346771                0.246158\n",
       "4   0.669410         0.587413                0.681052\n",
       "5   0.565158         0.489510                0.427341\n",
       "6   0.252401         0.150144                0.433014\n",
       "7   0.362140         0.366516                0.347440\n",
       "8   0.091221         0.135335                0.250293\n",
       "9   0.030864         0.000000                0.000000\n",
       "10  0.076132         0.064994                0.494457\n",
       "11  0.183128         0.152201                0.482724\n",
       "12  0.526063         0.487454                0.716984\n",
       "13  0.666667         0.578774                0.690930\n",
       "14  0.000000         0.009461                0.478056\n",
       "15  0.436900         0.371863                0.567231\n",
       "16  0.222908         0.214315                0.711758\n",
       "17  0.349794         0.408474                0.476977\n",
       "18  0.499314         0.489922                0.376309\n",
       "19  0.562414         0.551213                1.000000\n",
       "20  1.000000         1.000000                0.378990\n",
       "21  0.152263         0.243933                0.254945\n",
       "22  0.223594         0.357877                0.405251\n",
       "23  0.335391         0.246812                0.649860\n",
       "24  0.216049         0.135747                0.402141"
      ]
     },
     "metadata": {},
     "execution_count": 27
    }
   ],
   "metadata": {}
  },
  {
   "cell_type": "code",
   "execution_count": 10,
   "source": [
    "scaler = MinMaxScaler()\r\n",
    "scaler.fit(X_feature)"
   ],
   "outputs": [
    {
     "output_type": "execute_result",
     "data": {
      "text/plain": [
       "MinMaxScaler()"
      ]
     },
     "metadata": {},
     "execution_count": 10
    }
   ],
   "metadata": {}
  },
  {
   "cell_type": "code",
   "execution_count": 11,
   "source": [
    "scalerset = scaler.transform(X_feature)"
   ],
   "outputs": [],
   "metadata": {}
  },
  {
   "cell_type": "code",
   "execution_count": 13,
   "source": [
    "X_feature['청년 비율'] = scalerset[:,0]\r\n",
    "X_feature['세대수 중 청년층 1인 가구'] = scalerset[:,1]\r\n",
    "X_feature['청년층 의지할 수 있는 주변인 수(평균)'] = scalerset[:,2]"
   ],
   "outputs": [
    {
     "output_type": "stream",
     "name": "stderr",
     "text": [
      "C:\\Users\\JH\\AppData\\Local\\Temp/ipykernel_24200/4099658648.py:1: SettingWithCopyWarning: \n",
      "A value is trying to be set on a copy of a slice from a DataFrame.\n",
      "Try using .loc[row_indexer,col_indexer] = value instead\n",
      "\n",
      "See the caveats in the documentation: https://pandas.pydata.org/pandas-docs/stable/user_guide/indexing.html#returning-a-view-versus-a-copy\n",
      "  X_feature['청년 비율'] = scalerset[:,0]\n",
      "C:\\Users\\JH\\AppData\\Local\\Temp/ipykernel_24200/4099658648.py:2: SettingWithCopyWarning: \n",
      "A value is trying to be set on a copy of a slice from a DataFrame.\n",
      "Try using .loc[row_indexer,col_indexer] = value instead\n",
      "\n",
      "See the caveats in the documentation: https://pandas.pydata.org/pandas-docs/stable/user_guide/indexing.html#returning-a-view-versus-a-copy\n",
      "  X_feature['세대수 중 청년층 1인 가구'] = scalerset[:,1]\n",
      "C:\\Users\\JH\\AppData\\Local\\Temp/ipykernel_24200/4099658648.py:3: SettingWithCopyWarning: \n",
      "A value is trying to be set on a copy of a slice from a DataFrame.\n",
      "Try using .loc[row_indexer,col_indexer] = value instead\n",
      "\n",
      "See the caveats in the documentation: https://pandas.pydata.org/pandas-docs/stable/user_guide/indexing.html#returning-a-view-versus-a-copy\n",
      "  X_feature['청년층 의지할 수 있는 주변인 수(평균)'] = scalerset[:,2]\n"
     ]
    }
   ],
   "metadata": {}
  },
  {
   "cell_type": "code",
   "execution_count": 15,
   "source": [
    "kmeans = KMeans(n_clusters=3, random_state=2).fit(X_feature)"
   ],
   "outputs": [],
   "metadata": {}
  },
  {
   "cell_type": "code",
   "execution_count": 20,
   "source": [
    "kmeans.labels_"
   ],
   "outputs": [
    {
     "output_type": "execute_result",
     "data": {
      "text/plain": [
       "array([2, 2, 2, 2, 1, 2, 0, 2, 0, 0, 0, 0, 1, 1, 0, 2, 2, 2, 2, 1, 1, 0,\n",
       "       2, 2, 0])"
      ]
     },
     "metadata": {},
     "execution_count": 20
    }
   ],
   "metadata": {}
  },
  {
   "cell_type": "code",
   "execution_count": 19,
   "source": [
    "la = {X['행정구역(시군구)별'][i]:kmeans.labels_[i] for i in range(len(kmeans.labels_))}\r\n",
    "la  #각 행정구가 어떤 클러스터에 속하는지 dictionary화"
   ],
   "outputs": [
    {
     "output_type": "execute_result",
     "data": {
      "text/plain": [
       "{'종로구': 2,\n",
       " '중구': 2,\n",
       " '용산구': 2,\n",
       " '성동구': 2,\n",
       " '광진구': 1,\n",
       " '동대문구': 2,\n",
       " '중랑구': 0,\n",
       " '성북구': 2,\n",
       " '강북구': 0,\n",
       " '도봉구': 0,\n",
       " '노원구': 0,\n",
       " '은평구': 0,\n",
       " '서대문구': 1,\n",
       " '마포구': 1,\n",
       " '양천구': 0,\n",
       " '강서구': 2,\n",
       " '구로구': 2,\n",
       " '금천구': 2,\n",
       " '영등포구': 2,\n",
       " '동작구': 1,\n",
       " '관악구': 1,\n",
       " '서초구': 0,\n",
       " '강남구': 2,\n",
       " '송파구': 2,\n",
       " '강동구': 0}"
      ]
     },
     "metadata": {},
     "execution_count": 19
    }
   ],
   "metadata": {}
  },
  {
   "cell_type": "code",
   "execution_count": 22,
   "source": [
    "kmeans.cluster_centers_ # 클러스터의 무게중심이 어디인지"
   ],
   "outputs": [
    {
     "output_type": "execute_result",
     "data": {
      "text/plain": [
       "array([[0.1252572 , 0.11147676, 0.34945378],\n",
       "       [0.68491084, 0.64097079, 0.69359113],\n",
       "       [0.41929584, 0.37049225, 0.47361418]])"
      ]
     },
     "metadata": {},
     "execution_count": 22
    }
   ],
   "metadata": {}
  },
  {
   "cell_type": "code",
   "execution_count": 29,
   "source": [
    "kmeans.cluster_centers_[:,0]"
   ],
   "outputs": [
    {
     "output_type": "execute_result",
     "data": {
      "text/plain": [
       "array([0.1252572 , 0.68491084, 0.41929584])"
      ]
     },
     "metadata": {},
     "execution_count": 29
    }
   ],
   "metadata": {}
  },
  {
   "cell_type": "code",
   "execution_count": 30,
   "source": [
    "from mpl_toolkits.mplot3d import Axes3D\r\n",
    "import matplotlib.pyplot as plt\r\n",
    "import numpy as np\r\n",
    "\r\n",
    "\r\n",
    "xmin, xmax, ymin, ymax, zmin, zmax = 0, 1, 0, 1, 0, 5\r\n",
    "cmin, cmax = 0, 2\r\n",
    "\r\n",
    "xs = X_feature['청년 비율']\r\n",
    "ys = X_feature['세대수 중 청년층 1인 가구']\r\n",
    "zs = X_feature['청년층 의지할 수 있는 주변인 수(평균)']\r\n",
    "\r\n",
    "fig = plt.figure(figsize=(6, 6))\r\n",
    "ax = fig.add_subplot(111, projection='3d')\r\n",
    "ax.scatter(xs, ys, zs, marker='o', s=20, cmap='Greens')\r\n",
    "ax.scatter(kmeans.cluster_centers_[:,0],kmeans.cluster_centers_[:,1],kmeans.cluster_centers_[:,2] , s=100)\r\n",
    "plt.show()"
   ],
   "outputs": [
    {
     "output_type": "display_data",
     "data": {
      "image/png": "[encoded data removed]",
      "text/plain": [
       "<Figure size 432x432 with 1 Axes>"
      ]
     },
     "metadata": {
      "needs_background": "light"
     }
    }
   ],
   "metadata": {}
  },
  {
   "cell_type": "code",
   "execution_count": 31,
   "source": [
    "plt.scatter(xs, zs)\r\n",
    "plt.scatter(kmeans.cluster_centers_[:,0],kmeans.cluster_centers_[:,2])"
   ],
   "outputs": [
    {
     "output_type": "execute_result",
     "data": {
      "text/plain": [
       "<matplotlib.collections.PathCollection at 0x11d766dfdf0>"
      ]
     },
     "metadata": {},
     "execution_count": 31
    },
    {
     "output_type": "display_data",
     "data": {
      "image/png": "[encoded data removed]",
      "text/plain": [
       "<Figure size 432x288 with 1 Axes>"
      ]
     },
     "metadata": {
      "needs_background": "light"
     }
    }
   ],
   "metadata": {}
  },
  {
   "cell_type": "code",
   "execution_count": 32,
   "source": [
    "plt.scatter(xs, ys) #청년비율 / 청년 1인가구 비율\r\n",
    "plt.scatter(kmeans.cluster_centers_[:,0],kmeans.cluster_centers_[:,1])"
   ],
   "outputs": [
    {
     "output_type": "execute_result",
     "data": {
      "text/plain": [
       "<matplotlib.collections.PathCollection at 0x11d76762250>"
      ]
     },
     "metadata": {},
     "execution_count": 32
    },
    {
     "output_type": "display_data",
     "data": {
      "image/png": "[encoded data removed]",
      "text/plain": [
       "<Figure size 432x288 with 1 Axes>"
      ]
     },
     "metadata": {
      "needs_background": "light"
     }
    }
   ],
   "metadata": {}
  },
  {
   "cell_type": "code",
   "execution_count": 33,
   "source": [
    "plt.scatter(ys, zs)\r\n",
    "plt.scatter(kmeans.cluster_centers_[:,1],kmeans.cluster_centers_[:,2])"
   ],
   "outputs": [
    {
     "output_type": "execute_result",
     "data": {
      "text/plain": [
       "<matplotlib.collections.PathCollection at 0x11d767babb0>"
      ]
     },
     "metadata": {},
     "execution_count": 33
    },
    {
     "output_type": "display_data",
     "data": {
      "image/png": "[encoded data removed]",
      "text/plain": [
       "<Figure size 432x288 with 1 Axes>"
      ]
     },
     "metadata": {
      "needs_background": "light"
     }
    }
   ],
   "metadata": {}
  },
  {
   "cell_type": "code",
   "execution_count": 34,
   "source": [
    "silhouette_score(X_feature, kmeans.labels_)"
   ],
   "outputs": [
    {
     "output_type": "execute_result",
     "data": {
      "text/plain": [
       "0.3481307885587714"
      ]
     },
     "metadata": {},
     "execution_count": 34
    }
   ],
   "metadata": {}
  },
  {
   "cell_type": "code",
   "execution_count": 47,
   "source": [
    "sil_score = []\r\n",
    "index = []\r\n",
    "for i in range(2, 8):\r\n",
    "    kmeans = KMeans(n_clusters=i, random_state=i+1).fit(X_feature)\r\n",
    "    index.append(i)\r\n",
    "    sil_score.append(silhouette_score(X_feature, kmeans.labels_))\r\n",
    "    print(silhouette_score(X_feature, kmeans.labels_))"
   ],
   "outputs": [
    {
     "output_type": "stream",
     "name": "stdout",
     "text": [
      "0.3849657559960229\n",
      "0.3481307885587714\n",
      "0.36584370902497704\n",
      "0.3769043692914352\n",
      "0.35871439767210206\n",
      "0.3002224356801117\n"
     ]
    }
   ],
   "metadata": {}
  },
  {
   "cell_type": "code",
   "execution_count": 46,
   "source": [
    "import matplotlib.pyplot as plt"
   ],
   "outputs": [],
   "metadata": {}
  },
  {
   "cell_type": "code",
   "execution_count": 55,
   "source": [
    "plt.plot(index, sil_score, marker = 'o')\r\n",
    "\r\n",
    "plt.xlabel('index')\r\n",
    "plt.ylabel('score')\r\n",
    "plt.title('silhouette_score')\r\n",
    "\r\n",
    "plt.show()"
   ],
   "outputs": [
    {
     "output_type": "display_data",
     "data": {
      "image/png": "[encoded data removed]",
      "text/plain": [
       "<Figure size 432x288 with 1 Axes>"
      ]
     },
     "metadata": {
      "needs_background": "light"
     }
    }
   ],
   "metadata": {}
  },
  {
   "cell_type": "code",
   "execution_count": 56,
   "source": [
    "from sklearn.cluster import DBSCAN"
   ],
   "outputs": [],
   "metadata": {}
  },
  {
   "cell_type": "code",
   "execution_count": 76,
   "source": [
    "fig = plt.figure(figsize=(6, 6))\r\n",
    "ax = fig.add_subplot(111, projection='3d')\r\n",
    "ax.scatter(xs, ys, zs, marker='o', s=20, cmap='Greens')\r\n",
    "plt.show()"
   ],
   "outputs": [
    {
     "output_type": "display_data",
     "data": {
      "image/png": "[encoded data removed]",
      "text/plain": [
       "<Figure size 432x432 with 1 Axes>"
      ]
     },
     "metadata": {
      "needs_background": "light"
     }
    }
   ],
   "metadata": {}
  },
  {
   "cell_type": "code",
   "execution_count": 68,
   "source": [
    "dbscan = DBSCAN(eps = 0.25, min_samples=2)\r\n",
    "dbscan.fit(X_feature)"
   ],
   "outputs": [
    {
     "output_type": "execute_result",
     "data": {
      "text/plain": [
       "DBSCAN(eps=0.25, min_samples=2)"
      ]
     },
     "metadata": {},
     "execution_count": 68
    }
   ],
   "metadata": {}
  },
  {
   "cell_type": "code",
   "execution_count": 69,
   "source": [
    "dbscan.labels_"
   ],
   "outputs": [
    {
     "output_type": "execute_result",
     "data": {
      "text/plain": [
       "array([ 0,  0,  0,  0,  0,  0,  0,  0,  0, -1,  0,  0,  0,  0,  0,  0,  0,\n",
       "        0,  0, -1, -1,  0,  0,  0,  0], dtype=int64)"
      ]
     },
     "metadata": {},
     "execution_count": 69
    }
   ],
   "metadata": {}
  },
  {
   "cell_type": "code",
   "execution_count": 77,
   "source": [
    "dbscan.core_sample_indices_"
   ],
   "outputs": [
    {
     "output_type": "execute_result",
     "data": {
      "text/plain": [
       "array([ 0,  1,  2,  3,  4,  5,  6,  7,  8, 10, 11, 12, 13, 14, 15, 16, 17,\n",
       "       18, 21, 22, 23, 24], dtype=int64)"
      ]
     },
     "metadata": {},
     "execution_count": 77
    }
   ],
   "metadata": {}
  },
  {
   "cell_type": "code",
   "execution_count": 78,
   "source": [
    "dbscan.components_"
   ],
   "outputs": [
    {
     "output_type": "execute_result",
     "data": {
      "text/plain": [
       "array([[0.44855967, 0.39942411, 0.38972303],\n",
       "       [0.56378601, 0.37844508, 0.40117723],\n",
       "       [0.50068587, 0.37597696, 0.68414546],\n",
       "       [0.52331962, 0.34677088, 0.24615814],\n",
       "       [0.66941015, 0.58741259, 0.68105164],\n",
       "       [0.56515775, 0.48951049, 0.42734072],\n",
       "       [0.25240055, 0.15014397, 0.43301382],\n",
       "       [0.36213992, 0.36651584, 0.34743962],\n",
       "       [0.09122085, 0.13533525, 0.25029349],\n",
       "       [0.07613169, 0.06499383, 0.49445669],\n",
       "       [0.18312757, 0.15220074, 0.48272425],\n",
       "       [0.5260631 , 0.48745372, 0.71698423],\n",
       "       [0.66666667, 0.57877417, 0.69093015],\n",
       "       [0.        , 0.00946113, 0.47805646],\n",
       "       [0.43689986, 0.37186343, 0.5672305 ],\n",
       "       [0.22290809, 0.2143151 , 0.71175793],\n",
       "       [0.34979424, 0.40847388, 0.47697713],\n",
       "       [0.49931413, 0.48992184, 0.37630925],\n",
       "       [0.15226337, 0.24393254, 0.25494503],\n",
       "       [0.22359396, 0.35787742, 0.4052507 ],\n",
       "       [0.33539095, 0.24681201, 0.64986045],\n",
       "       [0.21604938, 0.13574661, 0.40214051]])"
      ]
     },
     "metadata": {},
     "execution_count": 78
    }
   ],
   "metadata": {}
  }
 ],
 "metadata": {
  "orig_nbformat": 4,
  "language_info": {
   "name": "python",
   "version": "3.9.6",
   "mimetype": "text/x-python",
   "codemirror_mode": {
    "name": "ipython",
    "version": 3
   },
   "pygments_lexer": "ipython3",
   "nbconvert_exporter": "python",
   "file_extension": ".py"
  },
  "kernelspec": {
   "name": "python3",
   "display_name": "Python 3.9.6 64-bit"
  },
  "interpreter": {
   "hash": "71b59b5ba49ad06bb2a011e750699e3983d230921f30bf7f37eb3a01ae69aa26"
  }
 },
 "nbformat": 4,
 "nbformat_minor": 2
}